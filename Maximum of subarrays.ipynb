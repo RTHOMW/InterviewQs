{
 "cells": [
  {
   "cell_type": "code",
   "execution_count": null,
   "id": "5a69cf6d",
   "metadata": {},
   "outputs": [],
   "source": [
    "https://www.interviewqs.com/questions/maximum-of-subarrays\n",
    "17/11/2022"
   ]
  },
  {
   "cell_type": "code",
   "execution_count": 1,
   "id": "50b9fe1f",
   "metadata": {},
   "outputs": [],
   "source": [
    "array = [1, 2, 3, 1, 4, 5, 2, 3, 6]\n",
    "A = 3"
   ]
  },
  {
   "cell_type": "code",
   "execution_count": 29,
   "id": "3e981d0e",
   "metadata": {},
   "outputs": [
    {
     "data": {
      "text/plain": [
       "9"
      ]
     },
     "execution_count": 29,
     "metadata": {},
     "output_type": "execute_result"
    }
   ],
   "source": [
    "len(array)"
   ]
  },
  {
   "cell_type": "code",
   "execution_count": 41,
   "id": "d42d4ceb",
   "metadata": {},
   "outputs": [
    {
     "data": {
      "text/plain": [
       "6"
      ]
     },
     "execution_count": 41,
     "metadata": {},
     "output_type": "execute_result"
    }
   ],
   "source": [
    "max(array)"
   ]
  },
  {
   "cell_type": "code",
   "execution_count": 40,
   "id": "cdf9ad43",
   "metadata": {},
   "outputs": [
    {
     "data": {
      "text/plain": [
       "[1, 2, 3]"
      ]
     },
     "execution_count": 40,
     "metadata": {},
     "output_type": "execute_result"
    }
   ],
   "source": [
    "subarray2 = [array[0], array[1], array[2]]\n",
    "subarray2"
   ]
  },
  {
   "cell_type": "code",
   "execution_count": 42,
   "id": "e32337cb",
   "metadata": {},
   "outputs": [
    {
     "data": {
      "text/plain": [
       "3"
      ]
     },
     "execution_count": 42,
     "metadata": {},
     "output_type": "execute_result"
    }
   ],
   "source": [
    "max(subarray2)"
   ]
  },
  {
   "cell_type": "code",
   "execution_count": 71,
   "id": "14c6c9e8",
   "metadata": {
    "scrolled": true
   },
   "outputs": [
    {
     "name": "stdout",
     "output_type": "stream",
     "text": [
      "3\n",
      "x 0\n",
      "3\n",
      "x 1\n",
      "4\n",
      "x 2\n",
      "5\n",
      "x 3\n",
      "5\n",
      "x 4\n",
      "5\n",
      "x 5\n",
      "6\n",
      "x 6\n"
     ]
    }
   ],
   "source": [
    "x=0\n",
    "for i in array:\n",
    "    if x>len(array)-A: break\n",
    "    subarray2 = [array[x], array[x+1], array[x+2]]\n",
    "    maxsub = max(subarray2)\n",
    "    print(maxsub)\n",
    "    print(\"x\",x)\n",
    "    x=x+1"
   ]
  },
  {
   "cell_type": "code",
   "execution_count": 72,
   "id": "be2c9c5b",
   "metadata": {
    "scrolled": true
   },
   "outputs": [
    {
     "name": "stdout",
     "output_type": "stream",
     "text": [
      "1\n",
      "2\n",
      "3\n",
      "4\n",
      "5\n",
      "6\n",
      "6\n",
      "6\n",
      "6\n"
     ]
    }
   ],
   "source": [
    "x=0\n",
    "for i in array:\n",
    "    if x<len(array)-A: x=x+1\n",
    "    print (x)"
   ]
  },
  {
   "cell_type": "code",
   "execution_count": 73,
   "id": "d2b54b24",
   "metadata": {},
   "outputs": [
    {
     "name": "stdout",
     "output_type": "stream",
     "text": [
      "3\n",
      "3\n",
      "4\n",
      "5\n",
      "5\n",
      "5\n",
      "6\n"
     ]
    }
   ],
   "source": [
    "#Final answer :\n",
    "x=0\n",
    "for i in array:\n",
    "    if x>len(array)-A: break\n",
    "    subarray2 = [array[x], array[x+1], array[x+2]]\n",
    "    maxsub = max(subarray2)\n",
    "    print(maxsub)\n",
    "    x=x+1"
   ]
  },
  {
   "cell_type": "code",
   "execution_count": null,
   "id": "06e8ddac",
   "metadata": {},
   "outputs": [],
   "source": []
  }
 ],
 "metadata": {
  "kernelspec": {
   "display_name": "Python 3 (ipykernel)",
   "language": "python",
   "name": "python3"
  },
  "language_info": {
   "codemirror_mode": {
    "name": "ipython",
    "version": 3
   },
   "file_extension": ".py",
   "mimetype": "text/x-python",
   "name": "python",
   "nbconvert_exporter": "python",
   "pygments_lexer": "ipython3",
   "version": "3.9.12"
  }
 },
 "nbformat": 4,
 "nbformat_minor": 5
}
